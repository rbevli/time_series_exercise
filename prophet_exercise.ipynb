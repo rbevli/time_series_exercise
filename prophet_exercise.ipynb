{
 "cells": [
  {
   "cell_type": "markdown",
   "metadata": {},
   "source": [
    "### Prophet exercise"
   ]
  },
  {
   "cell_type": "code",
   "execution_count": 17,
   "metadata": {
    "ExecuteTime": {
     "end_time": "2020-04-29T13:18:58.173612Z",
     "start_time": "2020-04-29T13:18:55.124896Z"
    }
   },
   "outputs": [],
   "source": [
    "# ignore warnings\n",
    "import warnings\n",
    "warnings.filterwarnings('ignore')\n",
    "\n",
    "# import pandas\n",
    "import pandas as pd\n",
    "\n",
    "# import matplotlib\n",
    "import matplotlib.pyplot as plt\n",
    "\n",
    "# import prophet\n",
    "from prophet import Prophet"
   ]
  },
  {
   "cell_type": "code",
   "execution_count": 6,
   "metadata": {
    "collapsed": true
   },
   "outputs": [
    {
     "name": "stdout",
     "output_type": "stream",
     "text": [
      "Collecting prophet\n",
      "  Using cached prophet-1.1-cp39-cp39-win_amd64.whl (12.1 MB)\n",
      "Collecting cmdstanpy>=1.0.1\n",
      "  Using cached cmdstanpy-1.0.4-py3-none-any.whl (73 kB)\n",
      "Requirement already satisfied: numpy>=1.15.4 in c:\\users\\bevli\\anaconda3\\lib\\site-packages (from prophet) (1.23.1)\n",
      "Requirement already satisfied: setuptools>=42 in c:\\users\\bevli\\anaconda3\\lib\\site-packages (from prophet) (58.0.4)\n",
      "Requirement already satisfied: convertdate>=2.1.2 in c:\\users\\bevli\\anaconda3\\lib\\site-packages (from prophet) (2.4.0)\n",
      "Requirement already satisfied: wheel>=0.37.0 in c:\\users\\bevli\\anaconda3\\lib\\site-packages (from prophet) (0.37.0)\n",
      "Requirement already satisfied: matplotlib>=2.0.0 in c:\\users\\bevli\\anaconda3\\lib\\site-packages (from prophet) (3.4.3)\n",
      "Requirement already satisfied: python-dateutil>=2.8.0 in c:\\users\\bevli\\anaconda3\\lib\\site-packages (from prophet) (2.8.2)\n",
      "Requirement already satisfied: Cython>=0.22 in c:\\users\\bevli\\anaconda3\\lib\\site-packages (from prophet) (0.29.24)\n",
      "Requirement already satisfied: holidays>=0.13 in c:\\users\\bevli\\anaconda3\\lib\\site-packages (from prophet) (0.14.2)\n",
      "Requirement already satisfied: tqdm>=4.36.1 in c:\\users\\bevli\\anaconda3\\lib\\site-packages (from prophet) (4.62.3)\n",
      "Requirement already satisfied: setuptools-git>=1.2 in c:\\users\\bevli\\anaconda3\\lib\\site-packages (from prophet) (1.2)\n",
      "Requirement already satisfied: LunarCalendar>=0.0.9 in c:\\users\\bevli\\anaconda3\\lib\\site-packages (from prophet) (0.0.9)\n",
      "Requirement already satisfied: pandas>=1.0.4 in c:\\users\\bevli\\anaconda3\\lib\\site-packages (from prophet) (1.3.4)\n",
      "Requirement already satisfied: ujson in c:\\users\\bevli\\anaconda3\\lib\\site-packages (from cmdstanpy>=1.0.1->prophet) (4.0.2)\n",
      "Requirement already satisfied: pymeeus<=1,>=0.3.13 in c:\\users\\bevli\\anaconda3\\lib\\site-packages (from convertdate>=2.1.2->prophet) (0.5.11)\n",
      "Requirement already satisfied: korean-lunar-calendar in c:\\users\\bevli\\anaconda3\\lib\\site-packages (from holidays>=0.13->prophet) (0.2.1)\n",
      "Requirement already satisfied: hijri-converter in c:\\users\\bevli\\anaconda3\\lib\\site-packages (from holidays>=0.13->prophet) (2.2.4)\n",
      "Requirement already satisfied: ephem>=3.7.5.3 in c:\\users\\bevli\\anaconda3\\lib\\site-packages (from LunarCalendar>=0.0.9->prophet) (4.1.3)\n",
      "Requirement already satisfied: pytz in c:\\users\\bevli\\anaconda3\\lib\\site-packages (from LunarCalendar>=0.0.9->prophet) (2021.3)\n",
      "Requirement already satisfied: cycler>=0.10 in c:\\users\\bevli\\anaconda3\\lib\\site-packages (from matplotlib>=2.0.0->prophet) (0.10.0)\n",
      "Requirement already satisfied: pillow>=6.2.0 in c:\\users\\bevli\\anaconda3\\lib\\site-packages (from matplotlib>=2.0.0->prophet) (8.4.0)\n",
      "Requirement already satisfied: pyparsing>=2.2.1 in c:\\users\\bevli\\anaconda3\\lib\\site-packages (from matplotlib>=2.0.0->prophet) (3.0.4)\n",
      "Requirement already satisfied: kiwisolver>=1.0.1 in c:\\users\\bevli\\anaconda3\\lib\\site-packages (from matplotlib>=2.0.0->prophet) (1.3.1)\n",
      "Requirement already satisfied: six in c:\\users\\bevli\\anaconda3\\lib\\site-packages (from cycler>=0.10->matplotlib>=2.0.0->prophet) (1.16.0)\n",
      "Requirement already satisfied: colorama in c:\\users\\bevli\\anaconda3\\lib\\site-packages (from tqdm>=4.36.1->prophet) (0.4.4)\n",
      "Installing collected packages: cmdstanpy, prophet\n",
      "  Attempting uninstall: cmdstanpy\n",
      "    Found existing installation: cmdstanpy 0.9.5\n",
      "    Uninstalling cmdstanpy-0.9.5:\n",
      "      Successfully uninstalled cmdstanpy-0.9.5\n",
      "Successfully installed cmdstanpy-1.0.4 prophet-1.1\n"
     ]
    }
   ],
   "source": [
    "!pip install prophet"
   ]
  },
  {
   "cell_type": "code",
   "execution_count": 9,
   "metadata": {
    "ExecuteTime": {
     "end_time": "2020-04-29T13:18:59.304569Z",
     "start_time": "2020-04-29T13:18:58.198145Z"
    }
   },
   "outputs": [],
   "source": [
    "# load data\n",
    "wmt = pd.read_csv('https://raw.githubusercontent.com/gumdropsteve/intro_to_prophet/master/data/WMT.csv')"
   ]
  },
  {
   "cell_type": "markdown",
   "metadata": {},
   "source": [
    "* Explore the dataset"
   ]
  },
  {
   "cell_type": "code",
   "execution_count": 10,
   "metadata": {
    "ExecuteTime": {
     "end_time": "2020-04-29T13:19:25.713918Z",
     "start_time": "2020-04-29T13:19:25.688300Z"
    }
   },
   "outputs": [
    {
     "data": {
      "text/html": [
       "<div>\n",
       "<style scoped>\n",
       "    .dataframe tbody tr th:only-of-type {\n",
       "        vertical-align: middle;\n",
       "    }\n",
       "\n",
       "    .dataframe tbody tr th {\n",
       "        vertical-align: top;\n",
       "    }\n",
       "\n",
       "    .dataframe thead th {\n",
       "        text-align: right;\n",
       "    }\n",
       "</style>\n",
       "<table border=\"1\" class=\"dataframe\">\n",
       "  <thead>\n",
       "    <tr style=\"text-align: right;\">\n",
       "      <th></th>\n",
       "      <th>Open</th>\n",
       "      <th>High</th>\n",
       "      <th>Low</th>\n",
       "      <th>Close</th>\n",
       "      <th>Adj Close</th>\n",
       "      <th>Volume</th>\n",
       "    </tr>\n",
       "  </thead>\n",
       "  <tbody>\n",
       "    <tr>\n",
       "      <th>count</th>\n",
       "      <td>11815.000000</td>\n",
       "      <td>11815.000000</td>\n",
       "      <td>11815.000000</td>\n",
       "      <td>11815.000000</td>\n",
       "      <td>11815.000000</td>\n",
       "      <td>1.181500e+04</td>\n",
       "    </tr>\n",
       "    <tr>\n",
       "      <th>mean</th>\n",
       "      <td>29.942336</td>\n",
       "      <td>30.226543</td>\n",
       "      <td>29.658511</td>\n",
       "      <td>29.948090</td>\n",
       "      <td>24.052813</td>\n",
       "      <td>7.510762e+06</td>\n",
       "    </tr>\n",
       "    <tr>\n",
       "      <th>std</th>\n",
       "      <td>29.802418</td>\n",
       "      <td>30.051176</td>\n",
       "      <td>29.566506</td>\n",
       "      <td>29.811830</td>\n",
       "      <td>26.403796</td>\n",
       "      <td>6.327371e+06</td>\n",
       "    </tr>\n",
       "    <tr>\n",
       "      <th>min</th>\n",
       "      <td>0.015625</td>\n",
       "      <td>0.015625</td>\n",
       "      <td>0.014404</td>\n",
       "      <td>0.015625</td>\n",
       "      <td>0.005798</td>\n",
       "      <td>0.000000e+00</td>\n",
       "    </tr>\n",
       "    <tr>\n",
       "      <th>25%</th>\n",
       "      <td>1.265625</td>\n",
       "      <td>1.281250</td>\n",
       "      <td>1.253906</td>\n",
       "      <td>1.265625</td>\n",
       "      <td>0.513472</td>\n",
       "      <td>3.753600e+06</td>\n",
       "    </tr>\n",
       "    <tr>\n",
       "      <th>50%</th>\n",
       "      <td>13.718750</td>\n",
       "      <td>13.843750</td>\n",
       "      <td>13.562500</td>\n",
       "      <td>13.687500</td>\n",
       "      <td>8.964169</td>\n",
       "      <td>6.263200e+06</td>\n",
       "    </tr>\n",
       "    <tr>\n",
       "      <th>75%</th>\n",
       "      <td>54.000000</td>\n",
       "      <td>54.570000</td>\n",
       "      <td>53.500000</td>\n",
       "      <td>54.000000</td>\n",
       "      <td>40.389094</td>\n",
       "      <td>9.515000e+06</td>\n",
       "    </tr>\n",
       "    <tr>\n",
       "      <th>max</th>\n",
       "      <td>111.489998</td>\n",
       "      <td>112.220001</td>\n",
       "      <td>111.029999</td>\n",
       "      <td>111.599998</td>\n",
       "      <td>111.599998</td>\n",
       "      <td>1.318336e+08</td>\n",
       "    </tr>\n",
       "  </tbody>\n",
       "</table>\n",
       "</div>"
      ],
      "text/plain": [
       "               Open          High           Low         Close     Adj Close  \\\n",
       "count  11815.000000  11815.000000  11815.000000  11815.000000  11815.000000   \n",
       "mean      29.942336     30.226543     29.658511     29.948090     24.052813   \n",
       "std       29.802418     30.051176     29.566506     29.811830     26.403796   \n",
       "min        0.015625      0.015625      0.014404      0.015625      0.005798   \n",
       "25%        1.265625      1.281250      1.253906      1.265625      0.513472   \n",
       "50%       13.718750     13.843750     13.562500     13.687500      8.964169   \n",
       "75%       54.000000     54.570000     53.500000     54.000000     40.389094   \n",
       "max      111.489998    112.220001    111.029999    111.599998    111.599998   \n",
       "\n",
       "             Volume  \n",
       "count  1.181500e+04  \n",
       "mean   7.510762e+06  \n",
       "std    6.327371e+06  \n",
       "min    0.000000e+00  \n",
       "25%    3.753600e+06  \n",
       "50%    6.263200e+06  \n",
       "75%    9.515000e+06  \n",
       "max    1.318336e+08  "
      ]
     },
     "execution_count": 10,
     "metadata": {},
     "output_type": "execute_result"
    }
   ],
   "source": [
    "wmt.describe()"
   ]
  },
  {
   "cell_type": "markdown",
   "metadata": {},
   "source": [
    "* use only the `Date` and `Adj Close` columns"
   ]
  },
  {
   "cell_type": "code",
   "execution_count": 11,
   "metadata": {
    "ExecuteTime": {
     "end_time": "2020-04-29T13:19:57.356443Z",
     "start_time": "2020-04-29T13:19:57.348689Z"
    }
   },
   "outputs": [],
   "source": [
    "df = wmt[['Date','Adj Close']]"
   ]
  },
  {
   "cell_type": "markdown",
   "metadata": {},
   "source": [
    "* rename columns to fit the Prophet naming convention"
   ]
  },
  {
   "cell_type": "code",
   "execution_count": 12,
   "metadata": {
    "ExecuteTime": {
     "end_time": "2020-04-29T13:19:57.853827Z",
     "start_time": "2020-04-29T13:19:57.847232Z"
    }
   },
   "outputs": [],
   "source": [
    "df = df.rename(columns = {'Date': 'ds',\n",
    "                         'Adj Close': 'y'})"
   ]
  },
  {
   "cell_type": "markdown",
   "metadata": {},
   "source": [
    "* convert date to datetime"
   ]
  },
  {
   "cell_type": "code",
   "execution_count": 13,
   "metadata": {
    "ExecuteTime": {
     "end_time": "2020-04-29T13:20:17.263879Z",
     "start_time": "2020-04-29T13:20:17.255117Z"
    }
   },
   "outputs": [],
   "source": [
    "df['ds'] = pd.to_datetime(df['ds'])"
   ]
  },
  {
   "cell_type": "markdown",
   "metadata": {},
   "source": [
    "* plot time-series"
   ]
  },
  {
   "cell_type": "code",
   "execution_count": 14,
   "metadata": {
    "ExecuteTime": {
     "end_time": "2020-04-29T13:20:45.090219Z",
     "start_time": "2020-04-29T13:20:44.882791Z"
    }
   },
   "outputs": [
    {
     "data": {
      "text/plain": [
       "[<matplotlib.lines.Line2D at 0x29ca7a6c6a0>]"
      ]
     },
     "execution_count": 14,
     "metadata": {},
     "output_type": "execute_result"
    },
    {
     "data": {
      "image/png": "[encoded data removed]",
      "text/plain": [
       "<Figure size 432x288 with 1 Axes>"
      ]
     },
     "metadata": {
      "needs_background": "light"
     },
     "output_type": "display_data"
    }
   ],
   "source": [
    "plt.plot(df['y'])"
   ]
  },
  {
   "cell_type": "markdown",
   "metadata": {},
   "source": [
    "* instantiate Prophet"
   ]
  },
  {
   "cell_type": "code",
   "execution_count": 28,
   "metadata": {
    "ExecuteTime": {
     "end_time": "2020-04-29T13:21:46.874890Z",
     "start_time": "2020-04-29T13:21:46.869289Z"
    }
   },
   "outputs": [
    {
     "data": {
      "text/html": [
       "<div>\n",
       "<style scoped>\n",
       "    .dataframe tbody tr th:only-of-type {\n",
       "        vertical-align: middle;\n",
       "    }\n",
       "\n",
       "    .dataframe tbody tr th {\n",
       "        vertical-align: top;\n",
       "    }\n",
       "\n",
       "    .dataframe thead th {\n",
       "        text-align: right;\n",
       "    }\n",
       "</style>\n",
       "<table border=\"1\" class=\"dataframe\">\n",
       "  <thead>\n",
       "    <tr style=\"text-align: right;\">\n",
       "      <th></th>\n",
       "      <th>ds</th>\n",
       "      <th>y</th>\n",
       "    </tr>\n",
       "  </thead>\n",
       "  <tbody>\n",
       "    <tr>\n",
       "      <th>0</th>\n",
       "      <td>1972-08-25</td>\n",
       "      <td>0.023768</td>\n",
       "    </tr>\n",
       "    <tr>\n",
       "      <th>1</th>\n",
       "      <td>1972-08-28</td>\n",
       "      <td>0.023678</td>\n",
       "    </tr>\n",
       "    <tr>\n",
       "      <th>2</th>\n",
       "      <td>1972-08-29</td>\n",
       "      <td>0.023408</td>\n",
       "    </tr>\n",
       "    <tr>\n",
       "      <th>3</th>\n",
       "      <td>1972-08-30</td>\n",
       "      <td>0.023408</td>\n",
       "    </tr>\n",
       "    <tr>\n",
       "      <th>4</th>\n",
       "      <td>1972-08-31</td>\n",
       "      <td>0.023047</td>\n",
       "    </tr>\n",
       "    <tr>\n",
       "      <th>...</th>\n",
       "      <td>...</td>\n",
       "      <td>...</td>\n",
       "    </tr>\n",
       "    <tr>\n",
       "      <th>11810</th>\n",
       "      <td>2019-06-26</td>\n",
       "      <td>110.160004</td>\n",
       "    </tr>\n",
       "    <tr>\n",
       "      <th>11811</th>\n",
       "      <td>2019-06-27</td>\n",
       "      <td>110.099998</td>\n",
       "    </tr>\n",
       "    <tr>\n",
       "      <th>11812</th>\n",
       "      <td>2019-06-28</td>\n",
       "      <td>110.489998</td>\n",
       "    </tr>\n",
       "    <tr>\n",
       "      <th>11813</th>\n",
       "      <td>2019-07-01</td>\n",
       "      <td>110.620003</td>\n",
       "    </tr>\n",
       "    <tr>\n",
       "      <th>11814</th>\n",
       "      <td>2019-07-02</td>\n",
       "      <td>111.599998</td>\n",
       "    </tr>\n",
       "  </tbody>\n",
       "</table>\n",
       "<p>11815 rows × 2 columns</p>\n",
       "</div>"
      ],
      "text/plain": [
       "              ds           y\n",
       "0     1972-08-25    0.023768\n",
       "1     1972-08-28    0.023678\n",
       "2     1972-08-29    0.023408\n",
       "3     1972-08-30    0.023408\n",
       "4     1972-08-31    0.023047\n",
       "...          ...         ...\n",
       "11810 2019-06-26  110.160004\n",
       "11811 2019-06-27  110.099998\n",
       "11812 2019-06-28  110.489998\n",
       "11813 2019-07-01  110.620003\n",
       "11814 2019-07-02  111.599998\n",
       "\n",
       "[11815 rows x 2 columns]"
      ]
     },
     "execution_count": 28,
     "metadata": {},
     "output_type": "execute_result"
    }
   ],
   "source": [
    "prophet = Prophet()\n",
    "df"
   ]
  },
  {
   "cell_type": "markdown",
   "metadata": {},
   "source": [
    "* fit model"
   ]
  },
  {
   "cell_type": "code",
   "execution_count": 19,
   "metadata": {
    "ExecuteTime": {
     "end_time": "2020-04-29T13:22:04.450684Z",
     "start_time": "2020-04-29T13:21:47.349098Z"
    }
   },
   "outputs": [
    {
     "name": "stderr",
     "output_type": "stream",
     "text": [
      "15:02:21 - cmdstanpy - INFO - Chain [1] start processing\n",
      "15:02:35 - cmdstanpy - INFO - Chain [1] done processing\n"
     ]
    },
    {
     "data": {
      "text/plain": [
       "<prophet.forecaster.Prophet at 0x29ca8138a30>"
      ]
     },
     "execution_count": 19,
     "metadata": {},
     "output_type": "execute_result"
    }
   ],
   "source": [
    "prophet.fit(df)"
   ]
  },
  {
   "cell_type": "markdown",
   "metadata": {},
   "source": [
    "* forecast 365 values into the future "
   ]
  },
  {
   "cell_type": "code",
   "execution_count": 33,
   "metadata": {
    "ExecuteTime": {
     "end_time": "2020-04-29T13:22:32.376596Z",
     "start_time": "2020-04-29T13:22:04.487074Z"
    }
   },
   "outputs": [
    {
     "ename": "Exception",
     "evalue": "Model has not been fit.",
     "output_type": "error",
     "traceback": [
      "\u001b[1;31m---------------------------------------------------------------------------\u001b[0m",
      "\u001b[1;31mException\u001b[0m                                 Traceback (most recent call last)",
      "\u001b[1;32m~\\AppData\\Local\\Temp/ipykernel_22332/222347423.py\u001b[0m in \u001b[0;36m<module>\u001b[1;34m\u001b[0m\n\u001b[1;32m----> 1\u001b[1;33m \u001b[0mfuture\u001b[0m \u001b[1;33m=\u001b[0m \u001b[0mprophet\u001b[0m\u001b[1;33m.\u001b[0m\u001b[0mmake_future_dataframe\u001b[0m\u001b[1;33m(\u001b[0m\u001b[0mperiods\u001b[0m \u001b[1;33m=\u001b[0m \u001b[1;36m365\u001b[0m\u001b[1;33m)\u001b[0m\u001b[1;33m\u001b[0m\u001b[1;33m\u001b[0m\u001b[0m\n\u001b[0m\u001b[0;32m      2\u001b[0m \u001b[0mforecast\u001b[0m \u001b[1;33m=\u001b[0m \u001b[0mprophet\u001b[0m\u001b[1;33m.\u001b[0m\u001b[0mpredict\u001b[0m\u001b[1;33m(\u001b[0m\u001b[0mfuture\u001b[0m\u001b[1;33m)\u001b[0m\u001b[1;33m\u001b[0m\u001b[1;33m\u001b[0m\u001b[0m\n",
      "\u001b[1;32m~\\anaconda3\\lib\\site-packages\\prophet\\forecaster.py\u001b[0m in \u001b[0;36mmake_future_dataframe\u001b[1;34m(self, periods, freq, include_history)\u001b[0m\n\u001b[0;32m   1563\u001b[0m         \"\"\"\n\u001b[0;32m   1564\u001b[0m         \u001b[1;32mif\u001b[0m \u001b[0mself\u001b[0m\u001b[1;33m.\u001b[0m\u001b[0mhistory_dates\u001b[0m \u001b[1;32mis\u001b[0m \u001b[1;32mNone\u001b[0m\u001b[1;33m:\u001b[0m\u001b[1;33m\u001b[0m\u001b[1;33m\u001b[0m\u001b[0m\n\u001b[1;32m-> 1565\u001b[1;33m             \u001b[1;32mraise\u001b[0m \u001b[0mException\u001b[0m\u001b[1;33m(\u001b[0m\u001b[1;34m'Model has not been fit.'\u001b[0m\u001b[1;33m)\u001b[0m\u001b[1;33m\u001b[0m\u001b[1;33m\u001b[0m\u001b[0m\n\u001b[0m\u001b[0;32m   1566\u001b[0m         \u001b[0mlast_date\u001b[0m \u001b[1;33m=\u001b[0m \u001b[0mself\u001b[0m\u001b[1;33m.\u001b[0m\u001b[0mhistory_dates\u001b[0m\u001b[1;33m.\u001b[0m\u001b[0mmax\u001b[0m\u001b[1;33m(\u001b[0m\u001b[1;33m)\u001b[0m\u001b[1;33m\u001b[0m\u001b[1;33m\u001b[0m\u001b[0m\n\u001b[0;32m   1567\u001b[0m         dates = pd.date_range(\n",
      "\u001b[1;31mException\u001b[0m: Model has not been fit."
     ]
    }
   ],
   "source": [
    "future = prophet.make_future_dataframe(periods = 365)\n",
    "forecast = prophet.predict(future)"
   ]
  },
  {
   "cell_type": "code",
   "execution_count": 32,
   "metadata": {},
   "outputs": [
    {
     "data": {
      "text/html": [
       "<div>\n",
       "<style scoped>\n",
       "    .dataframe tbody tr th:only-of-type {\n",
       "        vertical-align: middle;\n",
       "    }\n",
       "\n",
       "    .dataframe tbody tr th {\n",
       "        vertical-align: top;\n",
       "    }\n",
       "\n",
       "    .dataframe thead th {\n",
       "        text-align: right;\n",
       "    }\n",
       "</style>\n",
       "<table border=\"1\" class=\"dataframe\">\n",
       "  <thead>\n",
       "    <tr style=\"text-align: right;\">\n",
       "      <th></th>\n",
       "      <th>ds</th>\n",
       "      <th>trend</th>\n",
       "      <th>yhat_lower</th>\n",
       "      <th>yhat_upper</th>\n",
       "      <th>trend_lower</th>\n",
       "      <th>trend_upper</th>\n",
       "      <th>additive_terms</th>\n",
       "      <th>additive_terms_lower</th>\n",
       "      <th>additive_terms_upper</th>\n",
       "      <th>weekly</th>\n",
       "      <th>weekly_lower</th>\n",
       "      <th>weekly_upper</th>\n",
       "      <th>yearly</th>\n",
       "      <th>yearly_lower</th>\n",
       "      <th>yearly_upper</th>\n",
       "      <th>multiplicative_terms</th>\n",
       "      <th>multiplicative_terms_lower</th>\n",
       "      <th>multiplicative_terms_upper</th>\n",
       "      <th>yhat</th>\n",
       "    </tr>\n",
       "  </thead>\n",
       "  <tbody>\n",
       "    <tr>\n",
       "      <th>0</th>\n",
       "      <td>1972-08-25</td>\n",
       "      <td>-0.014389</td>\n",
       "      <td>-5.477152</td>\n",
       "      <td>4.167941</td>\n",
       "      <td>-0.014389</td>\n",
       "      <td>-0.014389</td>\n",
       "      <td>-0.391178</td>\n",
       "      <td>-0.391178</td>\n",
       "      <td>-0.391178</td>\n",
       "      <td>-0.016314</td>\n",
       "      <td>-0.016314</td>\n",
       "      <td>-0.016314</td>\n",
       "      <td>-0.374865</td>\n",
       "      <td>-0.374865</td>\n",
       "      <td>-0.374865</td>\n",
       "      <td>0.0</td>\n",
       "      <td>0.0</td>\n",
       "      <td>0.0</td>\n",
       "      <td>-0.405568</td>\n",
       "    </tr>\n",
       "    <tr>\n",
       "      <th>1</th>\n",
       "      <td>1972-08-28</td>\n",
       "      <td>-0.014288</td>\n",
       "      <td>-5.131663</td>\n",
       "      <td>4.148583</td>\n",
       "      <td>-0.014288</td>\n",
       "      <td>-0.014288</td>\n",
       "      <td>-0.391934</td>\n",
       "      <td>-0.391934</td>\n",
       "      <td>-0.391934</td>\n",
       "      <td>-0.008867</td>\n",
       "      <td>-0.008867</td>\n",
       "      <td>-0.008867</td>\n",
       "      <td>-0.383067</td>\n",
       "      <td>-0.383067</td>\n",
       "      <td>-0.383067</td>\n",
       "      <td>0.0</td>\n",
       "      <td>0.0</td>\n",
       "      <td>0.0</td>\n",
       "      <td>-0.406222</td>\n",
       "    </tr>\n",
       "    <tr>\n",
       "      <th>2</th>\n",
       "      <td>1972-08-29</td>\n",
       "      <td>-0.014254</td>\n",
       "      <td>-5.199470</td>\n",
       "      <td>4.213310</td>\n",
       "      <td>-0.014254</td>\n",
       "      <td>-0.014254</td>\n",
       "      <td>-0.377400</td>\n",
       "      <td>-0.377400</td>\n",
       "      <td>-0.377400</td>\n",
       "      <td>0.006852</td>\n",
       "      <td>0.006852</td>\n",
       "      <td>0.006852</td>\n",
       "      <td>-0.384252</td>\n",
       "      <td>-0.384252</td>\n",
       "      <td>-0.384252</td>\n",
       "      <td>0.0</td>\n",
       "      <td>0.0</td>\n",
       "      <td>0.0</td>\n",
       "      <td>-0.391654</td>\n",
       "    </tr>\n",
       "    <tr>\n",
       "      <th>3</th>\n",
       "      <td>1972-08-30</td>\n",
       "      <td>-0.014220</td>\n",
       "      <td>-4.546276</td>\n",
       "      <td>4.186349</td>\n",
       "      <td>-0.014220</td>\n",
       "      <td>-0.014220</td>\n",
       "      <td>-0.394068</td>\n",
       "      <td>-0.394068</td>\n",
       "      <td>-0.394068</td>\n",
       "      <td>-0.009259</td>\n",
       "      <td>-0.009259</td>\n",
       "      <td>-0.009259</td>\n",
       "      <td>-0.384809</td>\n",
       "      <td>-0.384809</td>\n",
       "      <td>-0.384809</td>\n",
       "      <td>0.0</td>\n",
       "      <td>0.0</td>\n",
       "      <td>0.0</td>\n",
       "      <td>-0.408288</td>\n",
       "    </tr>\n",
       "    <tr>\n",
       "      <th>4</th>\n",
       "      <td>1972-08-31</td>\n",
       "      <td>-0.014187</td>\n",
       "      <td>-5.083205</td>\n",
       "      <td>4.533483</td>\n",
       "      <td>-0.014187</td>\n",
       "      <td>-0.014187</td>\n",
       "      <td>-0.395966</td>\n",
       "      <td>-0.395966</td>\n",
       "      <td>-0.395966</td>\n",
       "      <td>-0.011109</td>\n",
       "      <td>-0.011109</td>\n",
       "      <td>-0.011109</td>\n",
       "      <td>-0.384857</td>\n",
       "      <td>-0.384857</td>\n",
       "      <td>-0.384857</td>\n",
       "      <td>0.0</td>\n",
       "      <td>0.0</td>\n",
       "      <td>0.0</td>\n",
       "      <td>-0.410152</td>\n",
       "    </tr>\n",
       "    <tr>\n",
       "      <th>...</th>\n",
       "      <td>...</td>\n",
       "      <td>...</td>\n",
       "      <td>...</td>\n",
       "      <td>...</td>\n",
       "      <td>...</td>\n",
       "      <td>...</td>\n",
       "      <td>...</td>\n",
       "      <td>...</td>\n",
       "      <td>...</td>\n",
       "      <td>...</td>\n",
       "      <td>...</td>\n",
       "      <td>...</td>\n",
       "      <td>...</td>\n",
       "      <td>...</td>\n",
       "      <td>...</td>\n",
       "      <td>...</td>\n",
       "      <td>...</td>\n",
       "      <td>...</td>\n",
       "      <td>...</td>\n",
       "    </tr>\n",
       "    <tr>\n",
       "      <th>12175</th>\n",
       "      <td>2020-06-27</td>\n",
       "      <td>96.549277</td>\n",
       "      <td>92.033836</td>\n",
       "      <td>101.274016</td>\n",
       "      <td>95.865243</td>\n",
       "      <td>97.181069</td>\n",
       "      <td>-0.002714</td>\n",
       "      <td>-0.002714</td>\n",
       "      <td>-0.002714</td>\n",
       "      <td>0.019348</td>\n",
       "      <td>0.019348</td>\n",
       "      <td>0.019348</td>\n",
       "      <td>-0.022062</td>\n",
       "      <td>-0.022062</td>\n",
       "      <td>-0.022062</td>\n",
       "      <td>0.0</td>\n",
       "      <td>0.0</td>\n",
       "      <td>0.0</td>\n",
       "      <td>96.546564</td>\n",
       "    </tr>\n",
       "    <tr>\n",
       "      <th>12176</th>\n",
       "      <td>2020-06-28</td>\n",
       "      <td>96.564130</td>\n",
       "      <td>91.683816</td>\n",
       "      <td>101.158937</td>\n",
       "      <td>95.877942</td>\n",
       "      <td>97.207592</td>\n",
       "      <td>-0.014812</td>\n",
       "      <td>-0.014812</td>\n",
       "      <td>-0.014812</td>\n",
       "      <td>0.019348</td>\n",
       "      <td>0.019348</td>\n",
       "      <td>0.019348</td>\n",
       "      <td>-0.034161</td>\n",
       "      <td>-0.034161</td>\n",
       "      <td>-0.034161</td>\n",
       "      <td>0.0</td>\n",
       "      <td>0.0</td>\n",
       "      <td>0.0</td>\n",
       "      <td>96.549317</td>\n",
       "    </tr>\n",
       "    <tr>\n",
       "      <th>12177</th>\n",
       "      <td>2020-06-29</td>\n",
       "      <td>96.578982</td>\n",
       "      <td>91.529368</td>\n",
       "      <td>101.422276</td>\n",
       "      <td>95.890642</td>\n",
       "      <td>97.227759</td>\n",
       "      <td>-0.054143</td>\n",
       "      <td>-0.054143</td>\n",
       "      <td>-0.054143</td>\n",
       "      <td>-0.008867</td>\n",
       "      <td>-0.008867</td>\n",
       "      <td>-0.008867</td>\n",
       "      <td>-0.045276</td>\n",
       "      <td>-0.045276</td>\n",
       "      <td>-0.045276</td>\n",
       "      <td>0.0</td>\n",
       "      <td>0.0</td>\n",
       "      <td>0.0</td>\n",
       "      <td>96.524838</td>\n",
       "    </tr>\n",
       "    <tr>\n",
       "      <th>12178</th>\n",
       "      <td>2020-06-30</td>\n",
       "      <td>96.593834</td>\n",
       "      <td>91.870336</td>\n",
       "      <td>101.172181</td>\n",
       "      <td>95.903342</td>\n",
       "      <td>97.245254</td>\n",
       "      <td>-0.048533</td>\n",
       "      <td>-0.048533</td>\n",
       "      <td>-0.048533</td>\n",
       "      <td>0.006852</td>\n",
       "      <td>0.006852</td>\n",
       "      <td>0.006852</td>\n",
       "      <td>-0.055385</td>\n",
       "      <td>-0.055385</td>\n",
       "      <td>-0.055385</td>\n",
       "      <td>0.0</td>\n",
       "      <td>0.0</td>\n",
       "      <td>0.0</td>\n",
       "      <td>96.545301</td>\n",
       "    </tr>\n",
       "    <tr>\n",
       "      <th>12179</th>\n",
       "      <td>2020-07-01</td>\n",
       "      <td>96.608686</td>\n",
       "      <td>91.694985</td>\n",
       "      <td>101.218238</td>\n",
       "      <td>95.916042</td>\n",
       "      <td>97.262749</td>\n",
       "      <td>-0.073746</td>\n",
       "      <td>-0.073746</td>\n",
       "      <td>-0.073746</td>\n",
       "      <td>-0.009259</td>\n",
       "      <td>-0.009259</td>\n",
       "      <td>-0.009259</td>\n",
       "      <td>-0.064487</td>\n",
       "      <td>-0.064487</td>\n",
       "      <td>-0.064487</td>\n",
       "      <td>0.0</td>\n",
       "      <td>0.0</td>\n",
       "      <td>0.0</td>\n",
       "      <td>96.534940</td>\n",
       "    </tr>\n",
       "  </tbody>\n",
       "</table>\n",
       "<p>12180 rows × 19 columns</p>\n",
       "</div>"
      ],
      "text/plain": [
       "              ds      trend  yhat_lower  yhat_upper  trend_lower  trend_upper  \\\n",
       "0     1972-08-25  -0.014389   -5.477152    4.167941    -0.014389    -0.014389   \n",
       "1     1972-08-28  -0.014288   -5.131663    4.148583    -0.014288    -0.014288   \n",
       "2     1972-08-29  -0.014254   -5.199470    4.213310    -0.014254    -0.014254   \n",
       "3     1972-08-30  -0.014220   -4.546276    4.186349    -0.014220    -0.014220   \n",
       "4     1972-08-31  -0.014187   -5.083205    4.533483    -0.014187    -0.014187   \n",
       "...          ...        ...         ...         ...          ...          ...   \n",
       "12175 2020-06-27  96.549277   92.033836  101.274016    95.865243    97.181069   \n",
       "12176 2020-06-28  96.564130   91.683816  101.158937    95.877942    97.207592   \n",
       "12177 2020-06-29  96.578982   91.529368  101.422276    95.890642    97.227759   \n",
       "12178 2020-06-30  96.593834   91.870336  101.172181    95.903342    97.245254   \n",
       "12179 2020-07-01  96.608686   91.694985  101.218238    95.916042    97.262749   \n",
       "\n",
       "       additive_terms  additive_terms_lower  additive_terms_upper    weekly  \\\n",
       "0           -0.391178             -0.391178             -0.391178 -0.016314   \n",
       "1           -0.391934             -0.391934             -0.391934 -0.008867   \n",
       "2           -0.377400             -0.377400             -0.377400  0.006852   \n",
       "3           -0.394068             -0.394068             -0.394068 -0.009259   \n",
       "4           -0.395966             -0.395966             -0.395966 -0.011109   \n",
       "...               ...                   ...                   ...       ...   \n",
       "12175       -0.002714             -0.002714             -0.002714  0.019348   \n",
       "12176       -0.014812             -0.014812             -0.014812  0.019348   \n",
       "12177       -0.054143             -0.054143             -0.054143 -0.008867   \n",
       "12178       -0.048533             -0.048533             -0.048533  0.006852   \n",
       "12179       -0.073746             -0.073746             -0.073746 -0.009259   \n",
       "\n",
       "       weekly_lower  weekly_upper    yearly  yearly_lower  yearly_upper  \\\n",
       "0         -0.016314     -0.016314 -0.374865     -0.374865     -0.374865   \n",
       "1         -0.008867     -0.008867 -0.383067     -0.383067     -0.383067   \n",
       "2          0.006852      0.006852 -0.384252     -0.384252     -0.384252   \n",
       "3         -0.009259     -0.009259 -0.384809     -0.384809     -0.384809   \n",
       "4         -0.011109     -0.011109 -0.384857     -0.384857     -0.384857   \n",
       "...             ...           ...       ...           ...           ...   \n",
       "12175      0.019348      0.019348 -0.022062     -0.022062     -0.022062   \n",
       "12176      0.019348      0.019348 -0.034161     -0.034161     -0.034161   \n",
       "12177     -0.008867     -0.008867 -0.045276     -0.045276     -0.045276   \n",
       "12178      0.006852      0.006852 -0.055385     -0.055385     -0.055385   \n",
       "12179     -0.009259     -0.009259 -0.064487     -0.064487     -0.064487   \n",
       "\n",
       "       multiplicative_terms  multiplicative_terms_lower  \\\n",
       "0                       0.0                         0.0   \n",
       "1                       0.0                         0.0   \n",
       "2                       0.0                         0.0   \n",
       "3                       0.0                         0.0   \n",
       "4                       0.0                         0.0   \n",
       "...                     ...                         ...   \n",
       "12175                   0.0                         0.0   \n",
       "12176                   0.0                         0.0   \n",
       "12177                   0.0                         0.0   \n",
       "12178                   0.0                         0.0   \n",
       "12179                   0.0                         0.0   \n",
       "\n",
       "       multiplicative_terms_upper       yhat  \n",
       "0                             0.0  -0.405568  \n",
       "1                             0.0  -0.406222  \n",
       "2                             0.0  -0.391654  \n",
       "3                             0.0  -0.408288  \n",
       "4                             0.0  -0.410152  \n",
       "...                           ...        ...  \n",
       "12175                         0.0  96.546564  \n",
       "12176                         0.0  96.549317  \n",
       "12177                         0.0  96.524838  \n",
       "12178                         0.0  96.545301  \n",
       "12179                         0.0  96.534940  \n",
       "\n",
       "[12180 rows x 19 columns]"
      ]
     },
     "execution_count": 32,
     "metadata": {},
     "output_type": "execute_result"
    }
   ],
   "source": [
    "forecast"
   ]
  },
  {
   "cell_type": "markdown",
   "metadata": {},
   "source": [
    "* plot forecast"
   ]
  },
  {
   "cell_type": "code",
   "execution_count": 25,
   "metadata": {
    "ExecuteTime": {
     "end_time": "2020-04-29T13:22:32.968507Z",
     "start_time": "2020-04-29T13:22:32.473323Z"
    }
   },
   "outputs": [
    {
     "data": {
      "image/png": "[encoded data removed]",
      "text/plain": [
       "<Figure size 720x432 with 1 Axes>"
      ]
     },
     "metadata": {},
     "output_type": "display_data"
    }
   ],
   "source": [
    "prophet.plot(forecast)\n",
    "plt.show()"
   ]
  },
  {
   "cell_type": "markdown",
   "metadata": {},
   "source": [
    "* plot components"
   ]
  },
  {
   "cell_type": "code",
   "execution_count": 27,
   "metadata": {
    "ExecuteTime": {
     "end_time": "2020-04-29T13:22:34.197258Z",
     "start_time": "2020-04-29T13:22:33.048421Z"
    }
   },
   "outputs": [
    {
     "data": {
      "image/png": "[encoded data removed]",
      "text/plain": [
       "<Figure size 648x648 with 3 Axes>"
      ]
     },
     "metadata": {},
     "output_type": "display_data"
    }
   ],
   "source": [
    "prophet.plot_components(forecast)\n",
    "plt.show()"
   ]
  },
  {
   "cell_type": "markdown",
   "metadata": {},
   "source": [
    "## Stretch\n",
    "### Arima vs. Prophet Modeling"
   ]
  },
  {
   "cell_type": "markdown",
   "metadata": {},
   "source": [
    "- Build the separate ARIMA model and compare with existing Prophet prediction. Use the last 7 values we have in the timeseries to test which approach has better predictions."
   ]
  },
  {
   "cell_type": "code",
   "execution_count": null,
   "metadata": {},
   "outputs": [],
   "source": []
  },
  {
   "cell_type": "code",
   "execution_count": null,
   "metadata": {},
   "outputs": [],
   "source": []
  }
 ],
 "metadata": {
  "kernelspec": {
   "display_name": "Python 3 (ipykernel)",
   "language": "python",
   "name": "python3"
  },
  "language_info": {
   "codemirror_mode": {
    "name": "ipython",
    "version": 3
   },
   "file_extension": ".py",
   "mimetype": "text/x-python",
   "name": "python",
   "nbconvert_exporter": "python",
   "pygments_lexer": "ipython3",
   "version": "3.9.7"
  },
  "toc": {
   "base_numbering": 1,
   "nav_menu": {},
   "number_sections": true,
   "sideBar": true,
   "skip_h1_title": false,
   "title_cell": "Table of Contents",
   "title_sidebar": "Contents",
   "toc_cell": false,
   "toc_position": {},
   "toc_section_display": true,
   "toc_window_display": false
  },
  "varInspector": {
   "cols": {
    "lenName": 16,
    "lenType": 16,
    "lenVar": 40
   },
   "kernels_config": {
    "python": {
     "delete_cmd_postfix": "",
     "delete_cmd_prefix": "del ",
     "library": "var_list.py",
     "varRefreshCmd": "print(var_dic_list())"
    },
    "r": {
     "delete_cmd_postfix": ") ",
     "delete_cmd_prefix": "rm(",
     "library": "var_list.r",
     "varRefreshCmd": "cat(var_dic_list()) "
    }
   },
   "types_to_exclude": [
    "module",
    "function",
    "builtin_function_or_method",
    "instance",
    "_Feature"
   ],
   "window_display": false
  }
 },
 "nbformat": 4,
 "nbformat_minor": 4
}
